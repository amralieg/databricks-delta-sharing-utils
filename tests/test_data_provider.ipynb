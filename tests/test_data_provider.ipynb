{
 "cells": [
  {
   "cell_type": "code",
   "execution_count": 0,
   "metadata": {
    "application/vnd.databricks.v1+cell": {
     "cellMetadata": {
      "byteLimit": 2048000,
      "rowLimit": 10000
     },
     "inputWidgets": {},
     "nuid": "cfe70438-0191-4dda-adde-cf4150d96130",
     "showTitle": false,
     "title": ""
    }
   },
   "outputs": [],
   "source": [
    "%run ../python/data_provider"
   ]
  },
  {
   "cell_type": "code",
   "execution_count": 0,
   "metadata": {
    "application/vnd.databricks.v1+cell": {
     "cellMetadata": {
      "byteLimit": 2048000,
      "rowLimit": 10000
     },
     "inputWidgets": {},
     "nuid": "814d5658-2a03-4f15-974d-0ec6b6ebc780",
     "showTitle": false,
     "title": ""
    }
   },
   "outputs": [],
   "source": [
    "import time\n",
    "def test_data_provider(share, share_file, sharing_identifier, catalog):\n",
    "  pass\n",
    "\n",
    "#test_data_provider(share=\"amr_share\", share_file = '/dbfs/FileStore/tables/amr_azure_share.share', sharing_identifier=\"\", catalog=\"amrali_d2o\")\n",
    "test_data_provider(share=\"amr_share\", share_file=\"\", sharing_identifier='', catalog=\"amrali_d2d\")\n",
    "\n",
    "#test_data_provider(share_file = '/dbfs/FileStore/tables/open_datasets.share', catalog=\"amrali_d2o\")"
   ]
  }
 ],
 "metadata": {
  "application/vnd.databricks.v1+notebook": {
   "dashboards": [],
   "language": "python",
   "notebookMetadata": {
    "pythonIndentUnit": 2
   },
   "notebookName": "test_data_provider",
   "notebookOrigID": 597306790366633,
   "widgets": {}
  }
 },
 "nbformat": 4,
 "nbformat_minor": 0
}
